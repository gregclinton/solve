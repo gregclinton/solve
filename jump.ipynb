{
  "nbformat": 4,
  "nbformat_minor": 0,
  "metadata": {
    "colab": {
      "name": "jump.ipynb",
      "provenance": [],
      "collapsed_sections": []
    },
    "kernelspec": {
      "name": "julia-1.6",
      "display_name": "Julia 1.6"
    },
    "language_info": {
      "name": "julia"
    }
  },
  "cells": [
    {
      "cell_type": "code",
      "metadata": {
        "id": "8IjQcOl1NY2f"
      },
      "source": [
        "%%shell\n",
        "wget https://julialang-s3.julialang.org/bin/linux/x64/1.6/julia-1.6.0-linux-x86_64.tar.gz\n",
        "tar -x -f julia-1.6.0-linux-x86_64.tar.gz -C /usr/local --strip-components 1\n",
        "julia -e 'using Pkg; Pkg.add(\"IJulia\")'\n",
        "julia -e 'using IJulia; IJulia.installkernel(\"julia\", env = Dict(\"JULIA_NUM_THREADS\"=>\"2\"))'"
      ],
      "execution_count": null,
      "outputs": []
    },
    {
      "cell_type": "code",
      "metadata": {
        "id": "kOUTL27KPb1k"
      },
      "source": [
        "using Pkg\n",
        "Pkg.add([\"JuMP\", \"GLPK\"])"
      ],
      "execution_count": null,
      "outputs": []
    },
    {
      "cell_type": "code",
      "metadata": {
        "id": "WQRagk7VQlVM"
      },
      "source": [
        "using JuMP, GLPK"
      ],
      "execution_count": 3,
      "outputs": []
    },
    {
      "cell_type": "code",
      "metadata": {
        "id": "F1LONkDyFjqo",
        "colab": {
          "base_uri": "https://localhost:8080/"
        },
        "outputId": "c382b520-cdd7-4ccf-d824-7c5dd4303bc8"
      },
      "source": [
        "model = Model(GLPK.Optimizer)\n",
        "@variable(model, x ≥ 0)\n",
        "@variable(model, 0 ≤ y ≤ 3)\n",
        "@objective(model, Min, 12x + 20y)\n",
        "@constraint(model, 6x + 8y ≥ 100)\n",
        "@constraint(model, 7x + 12y ≥ 120)\n",
        "optimize!(model)\n",
        "objective_value(model)"
      ],
      "execution_count": 4,
      "outputs": [
        {
          "output_type": "execute_result",
          "data": {
            "text/plain": [
              "204.99999999999997"
            ]
          },
          "metadata": {
            "tags": []
          },
          "execution_count": 4
        }
      ]
    },
    {
      "cell_type": "code",
      "metadata": {
        "colab": {
          "base_uri": "https://localhost:8080/"
        },
        "id": "KGHSvqntkw3X",
        "outputId": "0d381783-9a27-4b44-92af-df3da164c40c"
      },
      "source": [
        "print(1234)"
      ],
      "execution_count": 6,
      "outputs": [
        {
          "output_type": "stream",
          "text": [
            "1234"
          ],
          "name": "stdout"
        }
      ]
    }
  ]
}