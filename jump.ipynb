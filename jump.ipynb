{
  "nbformat": 4,
  "nbformat_minor": 0,
  "metadata": {
    "colab": {
      "name": "jump.ipynb",
      "provenance": [],
      "collapsed_sections": []
    },
    "kernelspec": {
      "name": "julia-1.6",
      "display_name": "Julia 1.6"
    },
    "language_info": {
      "name": "julia"
    }
  },
  "cells": [
    {
      "cell_type": "code",
      "metadata": {
        "id": "8IjQcOl1NY2f"
      },
      "source": [
        "%%shell\n",
        "wget https://julialang-s3.julialang.org/bin/linux/x64/1.6/julia-1.6.0-linux-x86_64.tar.gz\n",
        "tar -x -f julia-1.6.0-linux-x86_64.tar.gz -C /usr/local --strip-components 1\n",
        "julia -e 'using Pkg; Pkg.add(\"IJulia\")'\n",
        "julia -e 'using IJulia; IJulia.installkernel(\"julia\", env = Dict(\"JULIA_NUM_THREADS\"=>\"2\"))'"
      ],
      "execution_count": null,
      "outputs": []
    },
    {
      "cell_type": "code",
      "metadata": {
        "id": "kOUTL27KPb1k"
      },
      "source": [
        "using Pkg\n",
        "Pkg.add([\"JuMP\", \"GLPK\", \"SCS\"])"
      ],
      "execution_count": null,
      "outputs": []
    },
    {
      "cell_type": "code",
      "metadata": {
        "id": "WQRagk7VQlVM"
      },
      "source": [
        "using JuMP, GLPK"
      ],
      "execution_count": 3,
      "outputs": []
    },
    {
      "cell_type": "code",
      "metadata": {
        "id": "F1LONkDyFjqo",
        "colab": {
          "base_uri": "https://localhost:8080/"
        },
        "outputId": "c382b520-cdd7-4ccf-d824-7c5dd4303bc8"
      },
      "source": [
        "model = Model(GLPK.Optimizer)\n",
        "@variable(model, x ≥ 0)\n",
        "@variable(model, 0 ≤ y ≤ 3)\n",
        "@objective(model, Min, 12x + 20y)\n",
        "@constraint(model, 6x + 8y ≥ 100)\n",
        "@constraint(model, 7x + 12y ≥ 120)\n",
        "optimize!(model)\n",
        "objective_value(model)"
      ],
      "execution_count": 4,
      "outputs": [
        {
          "output_type": "execute_result",
          "data": {
            "text/plain": [
              "204.99999999999997"
            ]
          },
          "metadata": {
            "tags": []
          },
          "execution_count": 4
        }
      ]
    },
    {
      "cell_type": "code",
      "metadata": {
        "colab": {
          "base_uri": "https://localhost:8080/"
        },
        "id": "KGHSvqntkw3X",
        "outputId": "348a8d84-0424-45d7-9098-4e6ff3277731"
      },
      "source": [
        "using JuMP, SCS\n",
        "\n",
        "c = [59, 39, 38, 85]\n",
        "G =\n",
        "[\n",
        "    -1 -1 -3 -4\n",
        "    -4 -2 -2 -9\n",
        "    -8 -2  0 -5\n",
        "     0 -6 -7 -4\n",
        "]\n",
        "h = [-8, -17, -15, -17]\n",
        "b = [58]\n",
        "A =\n",
        "[\n",
        "    13 11 12 22\n",
        "]\n",
        "\n",
        "model = Model(SCS.Optimizer)\n",
        "@variable(model, x[1 : length(c)])\n",
        "@objective(model, Min, c' * x)\n",
        "@constraint(model, G * x .≤ h)\n",
        "@constraint(model, A * x .== b)\n",
        "optimize!(model)\n",
        "println(objective_value(model))"
      ],
      "execution_count": 9,
      "outputs": [
        {
          "output_type": "stream",
          "text": [
            "221.0000000070729\n",
            "----------------------------------------------------------------------------\n",
            "\tSCS v2.1.3 - Splitting Conic Solver\n",
            "\t(c) Brendan O'Donoghue, Stanford University, 2012\n",
            "----------------------------------------------------------------------------\n",
            "Lin-sys: sparse-indirect, nnz in A = 18, CG tol ~ 1/iter^(2.00)\n",
            "eps = 1.00e-05, alpha = 1.50, max_iters = 5000, normalize = 1, scale = 1.00\n",
            "acceleration_lookback = 10, rho_x = 1.00e-03\n",
            "Variables n = 4, constraints m = 5\n",
            "Cones:\tprimal zero / dual free vars: 1\n",
            "\tlinear vars: 4\n",
            "Setup time: 8.66e-05s\n",
            "----------------------------------------------------------------------------\n",
            " Iter | pri res | dua res | rel gap | pri obj | dua obj | kap/tau | time (s)\n",
            "----------------------------------------------------------------------------\n",
            "     0| 3.36e-01  2.01e+00  4.21e-01  2.63e+02  6.47e+02  5.62e-14  2.97e-05 \n",
            "    40| 1.80e-08  9.87e-08  4.75e-08  2.21e+02  2.21e+02  3.35e-15  3.04e-04 \n",
            "----------------------------------------------------------------------------\n",
            "Status: Solved\n",
            "Timing: Solve time: 3.07e-04s\n",
            "\tLin-sys: avg # CG iterations: 2.27, avg solve time: 5.55e-07s\n",
            "\tCones: avg projection time: 6.78e-08s\n",
            "\tAcceleration: avg step time: 5.65e-06s\n",
            "----------------------------------------------------------------------------\n",
            "Error metrics:\n",
            "dist(s, K) = 9.0822e-16, dist(y, K*) = 0.0000e+00, s'y/|s||y| = 2.8090e-16\n",
            "primal res: |Ax + s - b|_2 / (1 + |b|_2) = 1.8005e-08\n",
            "dual res:   |A'y + c|_2 / (1 + |c|_2) = 9.8743e-08\n",
            "rel gap:    |c'x + b'y| / (1 + |c'x| + |b'y|) = 4.7456e-08\n",
            "----------------------------------------------------------------------------\n",
            "c'x = 221.0000, -b'y = 221.0000\n",
            "============================================================================\n"
          ],
          "name": "stdout"
        }
      ]
    }
  ]
}