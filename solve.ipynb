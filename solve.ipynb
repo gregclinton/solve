{
  "nbformat": 4,
  "nbformat_minor": 0,
  "metadata": {
    "colab": {
      "name": "solve.ipynb",
      "provenance": [],
      "collapsed_sections": [],
      "toc_visible": true
    },
    "kernelspec": {
      "name": "python3",
      "display_name": "Python 3"
    },
    "accelerator": "GPU"
  },
  "cells": [
    {
      "cell_type": "markdown",
      "metadata": {
        "id": "RwYhQLsRbIZA"
      },
      "source": [
        "# Solve"
      ]
    },
    {
      "cell_type": "markdown",
      "metadata": {
        "id": "DZlo8tMJbmQ-"
      },
      "source": [
        "## pytorch"
      ]
    },
    {
      "cell_type": "code",
      "metadata": {
        "colab": {
          "base_uri": "https://localhost:8080/"
        },
        "id": "DZQX1yieU9VH",
        "outputId": "fbb07343-8570-4655-8e60-fb808987c5ee"
      },
      "source": [
        "import torch\n",
        "\n",
        "n = 2000\n",
        "A = torch.rand(n, n, dtype = torch.float)\n",
        "X = torch.rand(n, n, dtype = torch.float)\n",
        "B = A * X\n",
        "X = None\n",
        "\n",
        "%timeit -n1 -r1 torch.solve(A, B)[0].numpy()\n",
        "\n",
        "A = A.to(\"cuda\")\n",
        "B = B.to(\"cuda\")\n",
        "%timeit -n1 -r1 torch.solve(A, B)[0].cpu().numpy()\n",
        "\n",
        "A = B = None"
      ],
      "execution_count": 33,
      "outputs": [
        {
          "output_type": "stream",
          "text": [
            "1 loop, best of 1: 341 ms per loop\n",
            "1 loop, best of 1: 53.3 ms per loop\n"
          ],
          "name": "stdout"
        }
      ]
    },
    {
      "cell_type": "markdown",
      "metadata": {
        "id": "va1sWFlhccoz"
      },
      "source": [
        "## tensorflow"
      ]
    },
    {
      "cell_type": "code",
      "metadata": {
        "colab": {
          "base_uri": "https://localhost:8080/"
        },
        "id": "qkQtSSOmYGkt",
        "outputId": "6361e92a-5f5f-4999-8eda-974e3278e3aa"
      },
      "source": [
        "import tensorflow as tf\n",
        "\n",
        "n = 2000\n",
        "A = tf.random.uniform((n, n), dtype = tf.dtypes.float32)\n",
        "X = tf.random.uniform((n, n), dtype = tf.dtypes.float32)\n",
        "B = A * X\n",
        "X = None\n",
        "\n",
        "%timeit -n1 -r1 tf.linalg.solve(A, B).numpy()\n",
        "A = B = None"
      ],
      "execution_count": 30,
      "outputs": [
        {
          "output_type": "stream",
          "text": [
            "1 loop, best of 1: 76.5 ms per loop\n"
          ],
          "name": "stdout"
        }
      ]
    },
    {
      "cell_type": "markdown",
      "metadata": {
        "id": "9FuOoa_x9yA_"
      },
      "source": [
        "## julia"
      ]
    },
    {
      "cell_type": "code",
      "metadata": {
        "id": "pG-yr09e-A7n"
      },
      "source": [
        "%%shell\n",
        "wget https://julialang-s3.julialang.org/bin/linux/x64/1.6/julia-1.6.0-linux-x86_64.tar.gz\n",
        "tar -x -f julia-1.6.0-linux-x86_64.tar.gz -C /usr/local --strip-components 1"
      ],
      "execution_count": null,
      "outputs": []
    },
    {
      "cell_type": "code",
      "metadata": {
        "id": "1xEAotdqAfYU"
      },
      "source": [
        "!julia -e 'using Pkg; Pkg.add(\"CUDA\")'"
      ],
      "execution_count": null,
      "outputs": []
    },
    {
      "cell_type": "code",
      "metadata": {
        "id": "kos0I7Ze-V43"
      },
      "source": [
        "%%file mm.jl\n",
        "using CUDA\n",
        "\n",
        "A = rand(Float32, (2000, 2000))\n",
        "X = rand(Float32, (2000, 2000))\n",
        "B = A * X\n",
        "A \\ B\n",
        "@time A \\ B\n",
        "\n",
        "A = CuArray(A)\n",
        "B = CuArray(B)\n",
        "A \\ B\n",
        "@time A \\ B"
      ],
      "execution_count": null,
      "outputs": []
    },
    {
      "cell_type": "code",
      "metadata": {
        "colab": {
          "base_uri": "https://localhost:8080/"
        },
        "id": "aPdMx2RI-fJl",
        "outputId": "f0d357e9-4e91-4ad6-905f-eb13fd8bd17a"
      },
      "source": [
        "!julia mm.jl"
      ],
      "execution_count": 27,
      "outputs": [
        {
          "output_type": "stream",
          "text": [
            "  0.333568 seconds (5 allocations: 30.533 MiB, 3.25% gc time)\n",
            "  0.054754 seconds (69.13 k allocations: 1.056 MiB)\n"
          ],
          "name": "stdout"
        }
      ]
    }
  ]
}