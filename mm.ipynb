{
  "nbformat": 4,
  "nbformat_minor": 0,
  "metadata": {
    "colab": {
      "name": "mm.ipynb",
      "provenance": [],
      "collapsed_sections": [],
      "toc_visible": true
    },
    "kernelspec": {
      "name": "python3",
      "display_name": "Python 3"
    },
    "accelerator": "GPU"
  },
  "cells": [
    {
      "cell_type": "markdown",
      "metadata": {
        "id": "RwYhQLsRbIZA"
      },
      "source": [
        "# Matrix Multiply"
      ]
    },
    {
      "cell_type": "markdown",
      "metadata": {
        "id": "R_iKkUM0cBj8"
      },
      "source": [
        "## numpy"
      ]
    },
    {
      "cell_type": "code",
      "metadata": {
        "colab": {
          "base_uri": "https://localhost:8080/"
        },
        "id": "AxbrCnryRMjD",
        "outputId": "97625fa3-cac7-440a-e2c2-0af5874e9512"
      },
      "source": [
        "import numpy as np\n",
        "\n",
        "n = 2000\n",
        "A = np.random.rand(n, n).astype(np.single)\n",
        "B = np.random.rand(n, n).astype(np.single)\n",
        "\n",
        "%timeit -n1 -r1 A * B\n",
        "A = B = None"
      ],
      "execution_count": 102,
      "outputs": [
        {
          "output_type": "stream",
          "text": [
            "1 loop, best of 1: 3.96 ms per loop\n"
          ],
          "name": "stdout"
        }
      ]
    },
    {
      "cell_type": "markdown",
      "metadata": {
        "id": "DZlo8tMJbmQ-"
      },
      "source": [
        "## pytorch"
      ]
    },
    {
      "cell_type": "markdown",
      "metadata": {
        "id": "aln2ROKNb8D7"
      },
      "source": [
        "### cpu"
      ]
    },
    {
      "cell_type": "code",
      "metadata": {
        "colab": {
          "base_uri": "https://localhost:8080/"
        },
        "id": "DZQX1yieU9VH",
        "outputId": "ce98b538-41f7-4729-d8af-2d7daf453790"
      },
      "source": [
        "import torch\n",
        "\n",
        "n = 2000\n",
        "A = torch.rand(n, n, dtype = torch.float, device = \"cpu\")\n",
        "B = torch.rand(n, n, dtype = torch.float, device = \"cpu\")\n",
        "\n",
        "%timeit -n1 -r1 (A * B).numpy()\n",
        "A = B = None"
      ],
      "execution_count": 59,
      "outputs": [
        {
          "output_type": "stream",
          "text": [
            "1 loop, best of 1: 4.18 ms per loop\n"
          ],
          "name": "stdout"
        }
      ]
    },
    {
      "cell_type": "markdown",
      "metadata": {
        "id": "ngz1RBVtcRKQ"
      },
      "source": [
        "### cuda"
      ]
    },
    {
      "cell_type": "code",
      "metadata": {
        "colab": {
          "base_uri": "https://localhost:8080/"
        },
        "id": "zXLp_jZMTUNI",
        "outputId": "7a684476-9cdd-4f32-9c24-3718b3763003"
      },
      "source": [
        "import torch\n",
        "\n",
        "n = 2000\n",
        "A = torch.rand(n, n, dtype = torch.float, device = \"cuda\")\n",
        "B = torch.rand(n, n, dtype = torch.float, device = \"cuda\")\n",
        "\n",
        "%timeit -n1 -r1 (A * B).cpu().numpy()\n",
        "A = B = None"
      ],
      "execution_count": 98,
      "outputs": [
        {
          "output_type": "stream",
          "text": [
            "1 loop, best of 1: 5.09 ms per loop\n"
          ],
          "name": "stdout"
        }
      ]
    },
    {
      "cell_type": "markdown",
      "metadata": {
        "id": "va1sWFlhccoz"
      },
      "source": [
        "## tensorflow"
      ]
    },
    {
      "cell_type": "code",
      "metadata": {
        "colab": {
          "base_uri": "https://localhost:8080/"
        },
        "id": "qkQtSSOmYGkt",
        "outputId": "f4286e0c-c853-4ccb-a03e-638713366660"
      },
      "source": [
        "import tensorflow as tf\n",
        "\n",
        "n = 2000\n",
        "A = tf.random.uniform((n, n), dtype = tf.dtypes.float32)\n",
        "B = tf.random.uniform((n, n), dtype = tf.dtypes.float32)\n",
        "\n",
        "%timeit -n1 -r1 (A * B).numpy()\n",
        "A = B = None"
      ],
      "execution_count": 48,
      "outputs": [
        {
          "output_type": "stream",
          "text": [
            "1 loop, best of 1: 21 ms per loop\n"
          ],
          "name": "stdout"
        }
      ]
    },
    {
      "cell_type": "markdown",
      "metadata": {
        "id": "i0caLP-jc-Je"
      },
      "source": [
        "## blas"
      ]
    },
    {
      "cell_type": "code",
      "metadata": {
        "colab": {
          "base_uri": "https://localhost:8080/"
        },
        "id": "8IP87_D_dBtK",
        "outputId": "917e9e80-c622-409b-c850-52e0220ed4da"
      },
      "source": [
        "%%file mm.cpp\n",
        "#include <cblas.h>\n",
        "#include <random>\n",
        "#include <chrono>\n",
        "#include <iostream>\n",
        "#include <memory>\n",
        "\n",
        "using namespace std;\n",
        "using namespace chrono;\n",
        "\n",
        "int main()\n",
        "{\n",
        "    static default_random_engine rng(1234);\n",
        " \n",
        "    auto random_floats = [] (size_t n)\n",
        "    {\n",
        "        static normal_distribution<float> normal;\n",
        "        auto a = new float[n];\n",
        "     \n",
        "        for (size_t i = 0; i < n; ++i)\n",
        "        {\n",
        "            a[i] = normal(rng);\n",
        "        }\n",
        "\n",
        "        return a;\n",
        "    };\n",
        "\n",
        "    size_t m = 2000;\n",
        "    size_t n = 2000;\n",
        "    size_t k = 2000;\n",
        "\n",
        "    unique_ptr<float[]> A(random_floats(m * n));\n",
        "    unique_ptr<float[]> B(random_floats(n * k));\n",
        "    unique_ptr<float[]> C(random_floats(m * k));\n",
        " \n",
        "    // C = A * B;\n",
        "    auto start = system_clock::now();\n",
        "\n",
        "    cblas_sgemm(CblasRowMajor, CblasNoTrans, CblasNoTrans, m, n, k, 1, A.get(), m, B.get(), k, 0, C.get(), m);\n",
        "    cout << duration_cast<milliseconds>(system_clock::now() - start).count() << \" ms \" << endl;\n",
        "}"
      ],
      "execution_count": 88,
      "outputs": [
        {
          "output_type": "stream",
          "text": [
            "Overwriting mm.cpp\n"
          ],
          "name": "stdout"
        }
      ]
    },
    {
      "cell_type": "code",
      "metadata": {
        "colab": {
          "base_uri": "https://localhost:8080/"
        },
        "id": "JgM6Dma-gUUO",
        "outputId": "a07fb113-fc39-4780-8426-98599bde2623"
      },
      "source": [
        "!g++ mm.cpp -lblas -o mm && ./mm"
      ],
      "execution_count": 89,
      "outputs": [
        {
          "output_type": "stream",
          "text": [
            "225 ms \n"
          ],
          "name": "stdout"
        }
      ]
    },
    {
      "cell_type": "markdown",
      "metadata": {
        "id": "-k-0C8lscm3b"
      },
      "source": [
        "## cublas"
      ]
    },
    {
      "cell_type": "code",
      "metadata": {
        "colab": {
          "base_uri": "https://localhost:8080/"
        },
        "id": "hXayCtAxF79s",
        "outputId": "667b5cd1-01ef-4522-cc3c-4cc19ec0567a"
      },
      "source": [
        "%%file mm.cu\n",
        "#include \"cublas_v2.h\"\n",
        "#include <curand.h>\n",
        "#include <chrono>\n",
        "#include <iostream>\n",
        "\n",
        "using namespace std;\n",
        "using namespace chrono;\n",
        "\n",
        "int main()\n",
        "{\n",
        "    curandGenerator_t rng;\n",
        "    curandCreateGenerator(&rng, CURAND_RNG_PSEUDO_DEFAULT);\n",
        "    curandSetPseudoRandomGeneratorSeed(rng, 1234);\n",
        "\n",
        "    cublasHandle_t handle; \n",
        "    cublasCreate(&handle);\n",
        "\n",
        "    size_t m = 2000;\n",
        "    size_t n = 2000;\n",
        "    size_t k = 2000;\n",
        "\n",
        "    float *d_A, *d_B, *d_C;\n",
        " \n",
        "    cudaMalloc(&d_A, m * n * sizeof(*d_A));\n",
        "    cudaMalloc(&d_B, n * k * sizeof(*d_B));\n",
        "    cudaMalloc(&d_C, m * k * sizeof(*d_C));\n",
        "\n",
        "    curandGenerateUniform(rng, d_A, m * n);\n",
        "    curandGenerateUniform(rng, d_B, n * k);\n",
        "\n",
        "    // C = A * B;\n",
        "    float alpha = 1;\n",
        "    float beta = 0;\n",
        "    auto start = system_clock::now();\n",
        "\n",
        "    cublasSgemm(handle, CUBLAS_OP_N, CUBLAS_OP_N, m, n, k, &alpha, d_A, m, d_B, k, &beta, d_C, m);\n",
        "    cout << duration_cast<microseconds>(system_clock::now() - start).count() << \" μs \" << endl;\n",
        "\n",
        "    cudaFree(d_A);\n",
        "    cudaFree(d_B);\n",
        "    cudaFree(d_C);\n",
        "}"
      ],
      "execution_count": 90,
      "outputs": [
        {
          "output_type": "stream",
          "text": [
            "Overwriting mm.cu\n"
          ],
          "name": "stdout"
        }
      ]
    },
    {
      "cell_type": "code",
      "metadata": {
        "colab": {
          "base_uri": "https://localhost:8080/"
        },
        "id": "RmfdmOWiGYo0",
        "outputId": "96f62810-9bf8-41b2-8f3e-f95ce3dab116"
      },
      "source": [
        "!nvcc -arch=sm_75 mm.cu -lcublas -lcurand -o mm && ./mm"
      ],
      "execution_count": 91,
      "outputs": [
        {
          "output_type": "stream",
          "text": [
            "152 μs \n"
          ],
          "name": "stdout"
        }
      ]
    },
    {
      "cell_type": "code",
      "metadata": {
        "id": "DjUPllnMQPrT"
      },
      "source": [
        "!nvprof ./mm"
      ],
      "execution_count": null,
      "outputs": []
    },
    {
      "cell_type": "markdown",
      "metadata": {
        "id": "dc653wRUxZrT"
      },
      "source": [
        "## eigen"
      ]
    },
    {
      "cell_type": "code",
      "metadata": {
        "id": "oWesI0g4tDkJ"
      },
      "source": [
        "!wget https://gitlab.com/libeigen/eigen/-/archive/3.3.8/eigen-3.3.8.tar.bz2\n",
        "!tar xvjf eigen-3.3.8.tar.bz2\n",
        "!mv eigen-3.3.8/Eigen /usr/local/include/."
      ],
      "execution_count": null,
      "outputs": []
    },
    {
      "cell_type": "code",
      "metadata": {
        "colab": {
          "base_uri": "https://localhost:8080/"
        },
        "id": "2EYpaARKuEIm",
        "outputId": "4658e01c-a61f-482b-dfa1-fbced7460b60"
      },
      "source": [
        "%%file mm.cpp\n",
        "#define EIGEN_USE_BLAS\n",
        "#include <Eigen/Dense>\n",
        "#include <chrono>\n",
        "#include <iostream>\n",
        "\n",
        "using namespace std;\n",
        "using namespace chrono;\n",
        "using namespace Eigen;\n",
        "\n",
        "int main()\n",
        "{\n",
        "    size_t m = 2000;\n",
        "    size_t n = 2000;\n",
        "    size_t k = 2000;\n",
        "\n",
        "    auto A = MatrixXf::Random(m, n);\n",
        "    auto B = MatrixXf::Random(n, k);\n",
        "    auto start = system_clock::now();\n",
        "    auto C = A * B;\n",
        "\n",
        "    C.eval();\n",
        "    cout << duration_cast<milliseconds>(system_clock::now() - start).count() << \" ms \" << endl;\n",
        "}"
      ],
      "execution_count": 86,
      "outputs": [
        {
          "output_type": "stream",
          "text": [
            "Overwriting mm.cpp\n"
          ],
          "name": "stdout"
        }
      ]
    },
    {
      "cell_type": "code",
      "metadata": {
        "colab": {
          "base_uri": "https://localhost:8080/"
        },
        "id": "Bv4LLuOAu3x-",
        "outputId": "a0aedef5-f706-475b-c1c7-3a6bb4631571"
      },
      "source": [
        "!g++ mm.cpp -lblas -o mm && ./mm"
      ],
      "execution_count": 87,
      "outputs": [
        {
          "output_type": "stream",
          "text": [
            "595 ms \n"
          ],
          "name": "stdout"
        }
      ]
    },
    {
      "cell_type": "markdown",
      "metadata": {
        "id": "N_dZyRs1w685"
      },
      "source": [
        "## pytorch c++"
      ]
    },
    {
      "cell_type": "code",
      "metadata": {
        "id": "ggaf6gTUvnia"
      },
      "source": [
        "!wget https://download.pytorch.org/libtorch/cu102/libtorch-cxx11-abi-shared-with-deps-1.7.1.zip\n",
        "!unzip libtorch-cxx11-abi-shared-with-deps-1.7.1.zip\n",
        "!rm libtorch-cxx11-abi-shared-with-deps-1.7.1.zip\n",
        "!cp -r libtorch/include /usr/local/.\n",
        "!cp -r libtorch/include/torch/csrc/api/include/torch /usr/local/include/.\n",
        "!cp libtorch/lib/*.so* /usr/lib/x86_64-linux-gnu/.\n",
        "!rm -rf libtorch"
      ],
      "execution_count": null,
      "outputs": []
    },
    {
      "cell_type": "code",
      "metadata": {
        "id": "MqM7ArhTw_wl"
      },
      "source": [
        "%%file mm.cpp\n",
        "#include <torch/torch.h>\n",
        "#include <iostream>\n",
        "\n",
        "using namespace std;\n",
        "\n",
        "int main()\n",
        "{\n",
        "    cout << \"hello\" << endl;\n",
        "    torch::Tensor tensor = torch::eye(3);\n",
        "    cout << tensor << endl;\n",
        "}"
      ],
      "execution_count": null,
      "outputs": []
    },
    {
      "cell_type": "code",
      "metadata": {
        "id": "aSRChxqAoRXB"
      },
      "source": [
        "!g++ mm.cpp -ltorch -ltorch_cpu -lc10 -o mm\n",
        "!./mm"
      ],
      "execution_count": null,
      "outputs": []
    },
    {
      "cell_type": "markdown",
      "metadata": {
        "id": "9FuOoa_x9yA_"
      },
      "source": [
        "## julia"
      ]
    },
    {
      "cell_type": "code",
      "metadata": {
        "id": "pG-yr09e-A7n"
      },
      "source": [
        "%%shell\n",
        "wget https://julialang-s3.julialang.org/bin/linux/x64/1.6/julia-1.6.0-linux-x86_64.tar.gz\n",
        "tar -x -f julia-1.6.0-linux-x86_64.tar.gz -C /usr/local --strip-components 1"
      ],
      "execution_count": null,
      "outputs": []
    },
    {
      "cell_type": "code",
      "metadata": {
        "id": "1xEAotdqAfYU"
      },
      "source": [
        "!julia -e 'using Pkg; Pkg.add(\"CUDA\")'"
      ],
      "execution_count": null,
      "outputs": []
    },
    {
      "cell_type": "code",
      "metadata": {
        "colab": {
          "base_uri": "https://localhost:8080/"
        },
        "id": "kos0I7Ze-V43",
        "outputId": "71691bdd-65ca-4438-bc46-dcabbf3bb9e1"
      },
      "source": [
        "%%file mm.jl\n",
        "using CUDA\n",
        "\n",
        "A = rand(Float32, (2000, 2000))\n",
        "A * A\n",
        "@time A * A\n",
        "\n",
        "A = CuArray(A)\n",
        "A * A\n",
        "@time A * A"
      ],
      "execution_count": 77,
      "outputs": [
        {
          "output_type": "stream",
          "text": [
            "Overwriting mm.jl\n"
          ],
          "name": "stdout"
        }
      ]
    },
    {
      "cell_type": "code",
      "metadata": {
        "colab": {
          "base_uri": "https://localhost:8080/"
        },
        "id": "aPdMx2RI-fJl",
        "outputId": "c176c302-f1ee-4045-d48a-6a6b18e636ad"
      },
      "source": [
        "!julia mm.jl"
      ],
      "execution_count": 78,
      "outputs": [
        {
          "output_type": "stream",
          "text": [
            "  0.187886 seconds (2 allocations: 15.259 MiB)\n",
            "  0.000417 seconds (72 allocations: 1.516 KiB)\n"
          ],
          "name": "stdout"
        }
      ]
    }
  ]
}