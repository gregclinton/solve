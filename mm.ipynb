{
  "nbformat": 4,
  "nbformat_minor": 0,
  "metadata": {
    "colab": {
      "name": "mm.ipynb",
      "provenance": [],
      "collapsed_sections": [],
      "toc_visible": true
    },
    "kernelspec": {
      "name": "python3",
      "display_name": "Python 3"
    },
    "accelerator": "GPU"
  },
  "cells": [
    {
      "cell_type": "code",
      "metadata": {
        "id": "pG-yr09e-A7n"
      },
      "source": [
        "%%shell\n",
        "wget https://julialang-s3.julialang.org/bin/linux/x64/1.6/julia-1.6.0-linux-x86_64.tar.gz\n",
        "tar -x -f julia-1.6.0-linux-x86_64.tar.gz -C /usr/local --strip-components 1"
      ],
      "execution_count": null,
      "outputs": []
    },
    {
      "cell_type": "code",
      "metadata": {
        "id": "1xEAotdqAfYU"
      },
      "source": [
        "!julia -e 'using Pkg; Pkg.add(\"CUDA\")'"
      ],
      "execution_count": null,
      "outputs": []
    },
    {
      "cell_type": "code",
      "metadata": {
        "colab": {
          "base_uri": "https://localhost:8080/"
        },
        "id": "kos0I7Ze-V43",
        "outputId": "71691bdd-65ca-4438-bc46-dcabbf3bb9e1"
      },
      "source": [
        "%%file mm.jl\n",
        "using CUDA\n",
        "\n",
        "A = rand(Float32, (2000, 2000))\n",
        "A * A\n",
        "@time A * A\n",
        "\n",
        "A = CuArray(A)\n",
        "A * A\n",
        "@time A * A"
      ],
      "execution_count": null,
      "outputs": [
        {
          "output_type": "stream",
          "text": [
            "Overwriting mm.jl\n"
          ],
          "name": "stdout"
        }
      ]
    },
    {
      "cell_type": "code",
      "metadata": {
        "colab": {
          "base_uri": "https://localhost:8080/"
        },
        "id": "aPdMx2RI-fJl",
        "outputId": "c176c302-f1ee-4045-d48a-6a6b18e636ad"
      },
      "source": [
        "!julia mm.jl"
      ],
      "execution_count": null,
      "outputs": [
        {
          "output_type": "stream",
          "text": [
            "  0.187886 seconds (2 allocations: 15.259 MiB)\n",
            "  0.000417 seconds (72 allocations: 1.516 KiB)\n"
          ],
          "name": "stdout"
        }
      ]
    }
  ]
}