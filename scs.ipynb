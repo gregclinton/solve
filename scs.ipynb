{
 "cells": [
  {
   "cell_type": "code",
   "execution_count": 2,
   "metadata": {
    "collapsed": true
   },
   "outputs": [],
   "source": [
    "# https://github.com/cvxgrp/scs\n",
    "\n",
    "import numpy as np\n",
    "import scs\n",
    "from scipy.sparse import csc_matrix"
   ]
  },
  {
   "cell_type": "code",
   "execution_count": 3,
   "metadata": {},
   "outputs": [
    {
     "name": "stdout",
     "output_type": "stream",
     "text": [
      "Solved\n",
      "0.575629791278\n",
      "0.575629369891\n"
     ]
    }
   ],
   "source": [
    "# solve linear least squares\n",
    "\n",
    "m = 10000\n",
    "n = 500\n",
    "A = np.random.random((m, n))\n",
    "x = np.random.random(n)\n",
    "b = A.dot(x)\n",
    "\n",
    "data = {};\n",
    "K = { 'l': 0, 'q': [m], 's': [] };\n",
    "data['c'] = np.zeros(n)\n",
    "data['b'] = b\n",
    "data['A'] = csc_matrix(A)\n",
    "\n",
    "solution = scs.solve(data, K, verbose = False)\n",
    "print(solution['info']['status'])\n",
    "print(x[10])\n",
    "print(solution['x'][10])"
   ]
  }
 ],
 "metadata": {
  "kernelspec": {
   "display_name": "Python 3",
   "language": "python",
   "name": "python3"
  },
  "language_info": {
   "codemirror_mode": {
    "name": "ipython",
    "version": 3
   },
   "file_extension": ".py",
   "mimetype": "text/x-python",
   "name": "python",
   "nbconvert_exporter": "python",
   "pygments_lexer": "ipython3",
   "version": "3.6.7"
  }
 },
 "nbformat": 4,
 "nbformat_minor": 2
}
