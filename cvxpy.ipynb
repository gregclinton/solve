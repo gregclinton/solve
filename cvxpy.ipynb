{
 "cells": [
  {
   "cell_type": "code",
   "execution_count": 1,
   "metadata": {},
   "outputs": [
    {
     "name": "stdout",
     "output_type": "stream",
     "text": [
      "[[  2.74656694e-08]]\n"
     ]
    }
   ],
   "source": [
    "import cvxpy as cp\n",
    "import numpy as np\n",
    "\n",
    "m = 30\n",
    "n = 20\n",
    "np.random.seed(1)\n",
    "A = np.random.randn(m, n)\n",
    "b = np.random.randn(m)\n",
    "\n",
    "x = cp.Variable(n)\n",
    "objective = cp.Minimize(cp.sum_squares(A * x - b))\n",
    "constraints = [0 <= x, x <= 1]\n",
    "prob = cp.Problem(objective, constraints)\n",
    "\n",
    "result = prob.solve()\n",
    "print(x.value[0])\n",
    "# print(constraints[0].dual_value)"
   ]
  },
  {
   "cell_type": "code",
   "execution_count": 9,
   "metadata": {},
   "outputs": [
    {
     "name": "stdout",
     "output_type": "stream",
     "text": [
      "30.6549110721\n",
      "[[ 30.65438826]]\n"
     ]
    }
   ],
   "source": [
    "# solve linear least squares\n",
    "\n",
    "m = 10000\n",
    "n = 50\n",
    "A = 30 + np.random.normal(0, 1, (m, n))\n",
    "x = 30 + 2 * np.random.random(n)\n",
    "print(x[10])\n",
    "b = A.dot(x) + np.random.normal(0, 1, (m,))\n",
    "\n",
    "x = cp.Variable(n)\n",
    "objective = cp.Minimize(cp.sum_squares(A * x - b))\n",
    "constraints = []\n",
    "prob = cp.Problem(objective, constraints)\n",
    "\n",
    "result = prob.solve(solver = 'SCS') # SCS ECOS CVXOPT\n",
    "print(x.value[10])"
   ]
  }
 ],
 "metadata": {
  "kernelspec": {
   "display_name": "Python 3",
   "language": "python",
   "name": "python3"
  },
  "language_info": {
   "codemirror_mode": {
    "name": "ipython",
    "version": 3
   },
   "file_extension": ".py",
   "mimetype": "text/x-python",
   "name": "python",
   "nbconvert_exporter": "python",
   "pygments_lexer": "ipython3",
   "version": "3.6.7"
  }
 },
 "nbformat": 4,
 "nbformat_minor": 2
}
