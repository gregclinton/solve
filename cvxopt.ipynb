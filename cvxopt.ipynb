{
 "cells": [
  {
   "cell_type": "code",
   "execution_count": 1,
   "metadata": {},
   "outputs": [
    {
     "name": "stdout",
     "output_type": "stream",
     "text": [
      "optimal\n",
      "[-1.22e+00]\n",
      "[ 9.66e-02]\n",
      "[ 3.58e+00]\n",
      "\n"
     ]
    }
   ],
   "source": [
    "import numpy as np\n",
    "from cvxopt import matrix, solvers\n",
    "\n",
    "l = [\n",
    "    [ 16, -14,   5],\n",
    "    [  7,   2,   0],\n",
    "]\n",
    "\n",
    "q = [\n",
    "    [ 24,   7, -15],\n",
    "    [ -8, -13,  12],\n",
    "    [  8, -18,  -6],\n",
    "    [ -1,   3,  17],\n",
    "\n",
    "    [  0,   0,   0],\n",
    "    [ -1,   0,   0],\n",
    "    [  0,  -1,   0],\n",
    "    [  0,   0,  -1],\n",
    "]\n",
    "\n",
    "A_0 = [ [-68, 30, 19], [30, -99, -23], [19, -23, -10] ]\n",
    "A_1 = [ [7, -5, 1], [-5, 1, -7], [1, -7, -4] ]\n",
    "A_2 = [ [3, 13, -6], [13, 12, -10], [-6, -10, -28] ]\n",
    "A_3 = [ [9, 6, -6], [6, -7, -7], [-6, -7, -11] ]\n",
    "\n",
    "A_0, A_1, A_2, A_3 = [np.array(X, dtype = np.float64).flatten() for X in [A_0, A_1, A_2, A_3]]\n",
    "\n",
    "h = matrix(np.hstack(([-3, 5, 12], [-2, -14, -13, 10, 0, 0., 0], -A_0)))\n",
    "s = np.vstack([x for x in [A_1, A_2, A_3]]).T\n",
    "c = matrix([-6., -4., -5.])\n",
    "G = matrix(np.vstack([np.array(x, dtype = np.float64) for x in (l, q, s)]))\n",
    "\n",
    "dims = { 'l': 2, 'q': [4, 4], 's': [3] }\n",
    "solution = solvers.conelp(c, G, h, dims, options = {'show_progress': False})\n",
    "print(solution['status'])\n",
    "print(solution['x'])"
   ]
  },
  {
   "cell_type": "code",
   "execution_count": 5,
   "metadata": {},
   "outputs": [
    {
     "name": "stdout",
     "output_type": "stream",
     "text": [
      "primal infeasible\n",
      "31.4896997356\n"
     ]
    },
    {
     "ename": "TypeError",
     "evalue": "'NoneType' object is not subscriptable",
     "output_type": "error",
     "traceback": [
      "\u001b[0;31m---------------------------------------------------------------------------\u001b[0m",
      "\u001b[0;31mTypeError\u001b[0m                                 Traceback (most recent call last)",
      "\u001b[0;32m<ipython-input-5-f6fefd45da4f>\u001b[0m in \u001b[0;36m<module>\u001b[0;34m()\u001b[0m\n\u001b[1;32m     22\u001b[0m \u001b[0mprint\u001b[0m\u001b[0;34m(\u001b[0m\u001b[0msolution\u001b[0m\u001b[0;34m[\u001b[0m\u001b[0;34m'status'\u001b[0m\u001b[0;34m]\u001b[0m\u001b[0;34m)\u001b[0m\u001b[0;34m\u001b[0m\u001b[0;34m\u001b[0m\u001b[0m\n\u001b[1;32m     23\u001b[0m \u001b[0mprint\u001b[0m\u001b[0;34m(\u001b[0m\u001b[0mx\u001b[0m\u001b[0;34m[\u001b[0m\u001b[0;36m10\u001b[0m\u001b[0;34m]\u001b[0m\u001b[0;34m)\u001b[0m\u001b[0;34m\u001b[0m\u001b[0;34m\u001b[0m\u001b[0m\n\u001b[0;32m---> 24\u001b[0;31m \u001b[0mprint\u001b[0m\u001b[0;34m(\u001b[0m\u001b[0msolution\u001b[0m\u001b[0;34m[\u001b[0m\u001b[0;34m'x'\u001b[0m\u001b[0;34m]\u001b[0m\u001b[0;34m[\u001b[0m\u001b[0;36m10\u001b[0m\u001b[0;34m]\u001b[0m\u001b[0;34m)\u001b[0m\u001b[0;34m\u001b[0m\u001b[0;34m\u001b[0m\u001b[0m\n\u001b[0m",
      "\u001b[0;31mTypeError\u001b[0m: 'NoneType' object is not subscriptable"
     ]
    }
   ],
   "source": [
    "# solve linear least squares\n",
    "\n",
    "m = 10000\n",
    "n = 500\n",
    "A = np.random.random((m, n))\n",
    "x = np.random.random(n)\n",
    "b = A.dot(x)\n",
    "\n",
    "m = 500\n",
    "n = 50\n",
    "A = 30 + np.random.normal(0, 1, (m, n))\n",
    "x = 30 + 2 * np.random.random(n)\n",
    "b = A.dot(x) + np.random.normal(0, 1, (m,))\n",
    "\n",
    "\n",
    "h = matrix(b)\n",
    "c = matrix(np.ones(n))\n",
    "G = matrix(A)\n",
    "\n",
    "dims = { 'l': 0, 'q': [m], 's': [] }\n",
    "solution = solvers.conelp(c, G, h, dims, options = {'show_progress': False})\n",
    "print(solution['status'])\n",
    "print(x[10])\n",
    "print(solution['x'][10])"
   ]
  }
 ],
 "metadata": {
  "kernelspec": {
   "display_name": "Python 3",
   "language": "python",
   "name": "python3"
  },
  "language_info": {
   "codemirror_mode": {
    "name": "ipython",
    "version": 3
   },
   "file_extension": ".py",
   "mimetype": "text/x-python",
   "name": "python",
   "nbconvert_exporter": "python",
   "pygments_lexer": "ipython3",
   "version": "3.6.7"
  }
 },
 "nbformat": 4,
 "nbformat_minor": 2
}
