{
  "nbformat": 4,
  "nbformat_minor": 0,
  "metadata": {
    "kernelspec": {
      "display_name": "Python 3",
      "language": "python",
      "name": "python3"
    },
    "language_info": {
      "codemirror_mode": {
        "name": "ipython",
        "version": 3
      },
      "file_extension": ".py",
      "mimetype": "text/x-python",
      "name": "python",
      "nbconvert_exporter": "python",
      "pygments_lexer": "ipython3",
      "version": "3.6.1"
    },
    "colab": {
      "name": "blas.ipynb",
      "provenance": []
    }
  },
  "cells": [
    {
      "cell_type": "code",
      "metadata": {
        "collapsed": true,
        "id": "sv5M0eu9Kg2d"
      },
      "source": [
        "# http://www.netlib.org/blas/\n",
        "# http://www.netlib.org/lapack/individualroutines.html\n",
        "# http://www.netlib.org/lapack/lug/node37.html"
      ],
      "execution_count": null,
      "outputs": []
    },
    {
      "cell_type": "code",
      "metadata": {
        "collapsed": true,
        "id": "JEM8-7CWKg2m"
      },
      "source": [
        "import numpy as np"
      ],
      "execution_count": null,
      "outputs": []
    },
    {
      "cell_type": "code",
      "metadata": {
        "id": "BXt-FCkGKg2n",
        "outputId": "83e43f7a-7bbe-4cdd-bbdc-c993d91b46e1"
      },
      "source": [
        "n = 5000\n",
        "A = np.random.random((n, n))\n",
        "x = np.random.random(n)\n",
        "b = A.dot(x)\n",
        "x[10]"
      ],
      "execution_count": null,
      "outputs": [
        {
          "output_type": "execute_result",
          "data": {
            "text/plain": [
              "0.37176306066021814"
            ]
          },
          "metadata": {
            "tags": []
          },
          "execution_count": 4
        }
      ]
    },
    {
      "cell_type": "code",
      "metadata": {
        "id": "ZbFo51HiKg2o",
        "outputId": "03ddc9eb-ffa5-4105-eab0-0b7df5111d22"
      },
      "source": [
        "%%time\n",
        "A.dot(A).size"
      ],
      "execution_count": null,
      "outputs": [
        {
          "output_type": "stream",
          "text": [
            "CPU times: user 39.8 s, sys: 265 ms, total: 40.1 s\n",
            "Wall time: 5.06 s\n"
          ],
          "name": "stdout"
        },
        {
          "output_type": "execute_result",
          "data": {
            "text/plain": [
              "25000000"
            ]
          },
          "metadata": {
            "tags": []
          },
          "execution_count": 3
        }
      ]
    },
    {
      "cell_type": "code",
      "metadata": {
        "id": "R7p3OjpOKg2o",
        "outputId": "2553eb7a-5bbd-4fc8-be44-1aa6e6c0e17e"
      },
      "source": [
        "%%time\n",
        "np.linalg.solve(A, b)[10]"
      ],
      "execution_count": null,
      "outputs": [
        {
          "output_type": "stream",
          "text": [
            "CPU times: user 14.1 s, sys: 504 ms, total: 14.7 s\n",
            "Wall time: 1.99 s\n"
          ],
          "name": "stdout"
        },
        {
          "output_type": "execute_result",
          "data": {
            "text/plain": [
              "0.12079879086166265"
            ]
          },
          "metadata": {
            "tags": []
          },
          "execution_count": 4
        }
      ]
    },
    {
      "cell_type": "code",
      "metadata": {
        "id": "DPYJcrY3Kg2o",
        "outputId": "afd3fd7c-5ece-45bf-e6f5-53ff450ffac1"
      },
      "source": [
        "%%time\n",
        "from scipy.linalg.blas import dgemm\n",
        "\n",
        "alpha = 1\n",
        "dgemm(alpha, A, A)"
      ],
      "execution_count": null,
      "outputs": [
        {
          "output_type": "stream",
          "text": [
            "CPU times: user 40.2 s, sys: 543 ms, total: 40.7 s\n",
            "Wall time: 5.32 s\n"
          ],
          "name": "stdout"
        }
      ]
    },
    {
      "cell_type": "code",
      "metadata": {
        "id": "8JKYui1mKg2p",
        "outputId": "f19d5636-7b42-4929-c9b9-a4355b56156d"
      },
      "source": [
        "%%time\n",
        "from scipy.linalg.lapack import dgesv\n",
        "\n",
        "lu, piv, x, _ = dgesv(A, b)\n",
        "print(x[10])"
      ],
      "execution_count": null,
      "outputs": [
        {
          "output_type": "stream",
          "text": [
            "0.120798790862\n",
            "CPU times: user 14.2 s, sys: 571 ms, total: 14.7 s\n",
            "Wall time: 1.93 s\n"
          ],
          "name": "stdout"
        }
      ]
    },
    {
      "cell_type": "code",
      "metadata": {
        "collapsed": true,
        "id": "4seSHnY3Kg2p"
      },
      "source": [
        "m = 500\n",
        "n = 50\n",
        "A = 30 + np.random.normal(0, 1, (m, n))\n",
        "x = 30 + 2 * np.random.random(n)\n",
        "b = A.dot(x) + np.random.normal(0, 1, (m,))"
      ],
      "execution_count": null,
      "outputs": []
    },
    {
      "cell_type": "code",
      "metadata": {
        "id": "FGiFvBy5Kg2p",
        "outputId": "5020dd77-c937-456b-fdc0-e0d604a902ef"
      },
      "source": [
        "%%time\n",
        "\n",
        "# solve linear least squares\n",
        "\n",
        "x[10], np.linalg.lstsq(A, b)[0][10]"
      ],
      "execution_count": null,
      "outputs": [
        {
          "output_type": "stream",
          "text": [
            "CPU times: user 7.74 ms, sys: 19.5 ms, total: 27.2 ms\n",
            "Wall time: 5.5 ms\n"
          ],
          "name": "stdout"
        },
        {
          "output_type": "execute_result",
          "data": {
            "text/plain": [
              "(31.477151162067099, 31.442748316453471)"
            ]
          },
          "metadata": {
            "tags": []
          },
          "execution_count": 6
        }
      ]
    }
  ]
}