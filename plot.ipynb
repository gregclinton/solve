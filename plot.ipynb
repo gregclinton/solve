{
  "nbformat": 4,
  "nbformat_minor": 0,
  "metadata": {
    "colab": {
      "name": "plot.ipynb",
      "provenance": [],
      "collapsed_sections": []
    },
    "kernelspec": {
      "name": "julia-1.6",
      "display_name": "Julia 1.6"
    },
    "language_info": {
      "name": "julia"
    }
  },
  "cells": [
    {
      "cell_type": "code",
      "metadata": {
        "id": "8IjQcOl1NY2f"
      },
      "source": [
        "%%shell\n",
        "wget https://julialang-s3.julialang.org/bin/linux/x64/1.6/julia-1.6.0-linux-x86_64.tar.gz\n",
        "tar -x -f julia-1.6.0-linux-x86_64.tar.gz -C /usr/local --strip-components 1\n",
        "julia -e 'using Pkg; Pkg.add(\"IJulia\")'\n",
        "julia -e 'using IJulia; IJulia.installkernel(\"julia\", env = Dict(\"JULIA_NUM_THREADS\"=>\"2\"))'"
      ],
      "execution_count": null,
      "outputs": []
    },
    {
      "cell_type": "code",
      "metadata": {
        "id": "kOUTL27KPb1k"
      },
      "source": [
        "using Pkg\n",
        "Pkg.add([\"Plots\"])"
      ],
      "execution_count": null,
      "outputs": []
    },
    {
      "cell_type": "code",
      "metadata": {
        "id": "-_l_7-5zA69T"
      },
      "source": [
        "using Plots\n",
        "\n",
        "plot(1:10, rand(10))"
      ],
      "execution_count": null,
      "outputs": []
    }
  ]
}