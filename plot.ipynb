{
  "nbformat": 4,
  "nbformat_minor": 0,
  "metadata": {
    "colab": {
      "name": "plot.ipynb",
      "provenance": [],
      "collapsed_sections": []
    },
    "kernelspec": {
      "name": "julia-1.6",
      "display_name": "Julia 1.6"
    },
    "language_info": {
      "name": "julia"
    }
  },
  "cells": [
    {
      "cell_type": "code",
      "metadata": {
        "id": "8IjQcOl1NY2f"
      },
      "source": [
        "%%shell\n",
        "wget https://julialang-s3.julialang.org/bin/linux/x64/1.6/julia-1.6.0-linux-x86_64.tar.gz\n",
        "tar -x -f julia-1.6.0-linux-x86_64.tar.gz -C /usr/local --strip-components 1\n",
        "julia -e 'using Pkg; Pkg.add(\"IJulia\")'\n",
        "julia -e 'using IJulia; IJulia.installkernel(\"julia\", env = Dict(\"JULIA_NUM_THREADS\"=>\"2\"))'"
      ],
      "execution_count": null,
      "outputs": []
    },
    {
      "cell_type": "code",
      "metadata": {
        "id": "kOUTL27KPb1k"
      },
      "source": [
        "using Pkg\n",
        "Pkg.add([\"Plots\"])"
      ],
      "execution_count": null,
      "outputs": []
    },
    {
      "cell_type": "code",
      "metadata": {
        "id": "-_l_7-5zA69T"
      },
      "source": [
        "using Plots\n",
        "\n",
        "plot(1:10, rand(10), seriestype = :scatter, msize = 3, mswidth = 0, mc = :blue, legend = false)\n",
        "plot!(1:10, rand(10), seriestype = :scatter, msize = 5, mswidth = 0, mc = :yellow)"
      ],
      "execution_count": null,
      "outputs": []
    },
    {
      "cell_type": "code",
      "metadata": {
        "id": "eWvMxjrYJBQR"
      },
      "source": [
        "A = Array{Float32, 2}(undef, 14, 10) \n",
        "b = 1000"
      ],
      "execution_count": null,
      "outputs": []
    },
    {
      "cell_type": "code",
      "metadata": {
        "id": "CJUYtNSlKE8K"
      },
      "source": [
        "function project(x, a, b)\n",
        "    # project x onto plane a'x = b\n",
        "    return x + 1.0 * a * (b - a.dot(x)) / a.dot(a)\n",
        "end\n",
        "\n",
        "x0 = project(zeros(2), A, b)"
      ],
      "execution_count": null,
      "outputs": []
    }
  ]
}