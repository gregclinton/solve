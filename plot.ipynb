{
  "nbformat": 4,
  "nbformat_minor": 0,
  "metadata": {
    "colab": {
      "name": "plot.ipynb",
      "provenance": [],
      "collapsed_sections": []
    },
    "kernelspec": {
      "name": "julia-1.6",
      "display_name": "Julia 1.6"
    },
    "language_info": {
      "name": "julia"
    }
  },
  "cells": [
    {
      "cell_type": "code",
      "metadata": {
        "id": "8IjQcOl1NY2f"
      },
      "source": [
        "%%shell\n",
        "wget https://julialang-s3.julialang.org/bin/linux/x64/1.6/julia-1.6.0-linux-x86_64.tar.gz\n",
        "tar -x -f julia-1.6.0-linux-x86_64.tar.gz -C /usr/local --strip-components 1\n",
        "julia -e 'using Pkg; Pkg.add(\"IJulia\")'\n",
        "julia -e 'using IJulia; IJulia.installkernel(\"julia\", env = Dict(\"JULIA_NUM_THREADS\"=>\"2\"))'"
      ],
      "execution_count": null,
      "outputs": []
    },
    {
      "cell_type": "code",
      "metadata": {
        "id": "kOUTL27KPb1k"
      },
      "source": [
        "using Pkg\n",
        "Pkg.add([\"Plots\"])"
      ],
      "execution_count": null,
      "outputs": []
    },
    {
      "cell_type": "code",
      "metadata": {
        "id": "-_l_7-5zA69T"
      },
      "source": [
        "using Plots\n",
        "\n",
        "plot(1:10, rand(10), seriestype = :scatter, msize = 3, mswidth = 0, mc = :blue, legend = false)\n",
        "plot!(1:10, rand(10), seriestype = :scatter, msize = 5, mswidth = 0, mc = :yellow)"
      ],
      "execution_count": null,
      "outputs": []
    },
    {
      "cell_type": "code",
      "metadata": {
        "colab": {
          "base_uri": "https://localhost:8080/"
        },
        "id": "eWvMxjrYJBQR",
        "outputId": "4c888809-2e80-49ae-82e4-48bd29f014c9"
      },
      "source": [
        "a = [14, 10]\n",
        "b = 1000"
      ],
      "execution_count": 9,
      "outputs": [
        {
          "output_type": "execute_result",
          "data": {
            "text/plain": [
              "1000"
            ]
          },
          "metadata": {
            "tags": []
          },
          "execution_count": 9
        }
      ]
    },
    {
      "cell_type": "code",
      "metadata": {
        "id": "CJUYtNSlKE8K"
      },
      "source": [
        "function project(x, a, b)\n",
        "    # project x onto plane a'x = b\n",
        "    return x + 1.0 * a * (b - a'x) / a'a\n",
        "end\n",
        "\n",
        "x0 = project(zeros(2), a, b)\n",
        "X = []\n",
        "\n",
        "gridx = gridy = LinRange(0, 100, 101)\n",
        "\n",
        "for x1 in gridx\n",
        "    for x2 in gridy \n",
        "        x = [x1, x2]\n",
        "        if a'x < b\n",
        "            X.append(x)\n",
        "        end\n",
        "    end\n",
        "end"
      ],
      "execution_count": null,
      "outputs": []
    }
  ]
}